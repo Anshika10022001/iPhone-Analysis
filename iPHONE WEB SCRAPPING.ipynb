{
 "cells": [
  {
   "cell_type": "markdown",
   "id": "d1c96bb2",
   "metadata": {},
   "source": [
    "# FLIPCART WEB-SCRAPPING"
   ]
  },
  {
   "cell_type": "code",
   "execution_count": 1,
   "id": "8a38f584",
   "metadata": {},
   "outputs": [],
   "source": [
    "import pandas as pd\n",
    "import requests \n",
    "from bs4 import BeautifulSoup"
   ]
  },
  {
   "cell_type": "markdown",
   "id": "55ffb712",
   "metadata": {},
   "source": [
    "## Running a loop through 10 pages of flipcart"
   ]
  },
  {
   "cell_type": "code",
   "execution_count": 2,
   "id": "6ce70aff",
   "metadata": {},
   "outputs": [
    {
     "name": "stdout",
     "output_type": "stream",
     "text": [
      "https://www.flipkart.com/search?q=apple+phone&sid=tyy%2C4io&as=on&as-show=on&otracker=AS_QueryStore_OrganicAutoSuggest_1_5_na_na_ps&otracker1=AS_QueryStore_OrganicAutoSuggest_1_5_na_na_ps&as-pos=1&as-type=RECENT&suggestionId=apple+phone%7CMobiles&requestId=46fc1ac4-b417-4242-b6c0-600ceb9bcca6&as-searchtext=apple&page=1\n",
      "https://www.flipkart.com/search?q=apple+phone&sid=tyy%2C4io&as=on&as-show=on&otracker=AS_QueryStore_OrganicAutoSuggest_1_5_na_na_ps&otracker1=AS_QueryStore_OrganicAutoSuggest_1_5_na_na_ps&as-pos=1&as-type=RECENT&suggestionId=apple+phone%7CMobiles&requestId=46fc1ac4-b417-4242-b6c0-600ceb9bcca6&as-searchtext=apple&page=2\n",
      "https://www.flipkart.com/search?q=apple+phone&sid=tyy%2C4io&as=on&as-show=on&otracker=AS_QueryStore_OrganicAutoSuggest_1_5_na_na_ps&otracker1=AS_QueryStore_OrganicAutoSuggest_1_5_na_na_ps&as-pos=1&as-type=RECENT&suggestionId=apple+phone%7CMobiles&requestId=46fc1ac4-b417-4242-b6c0-600ceb9bcca6&as-searchtext=apple&page=3\n",
      "https://www.flipkart.com/search?q=apple+phone&sid=tyy%2C4io&as=on&as-show=on&otracker=AS_QueryStore_OrganicAutoSuggest_1_5_na_na_ps&otracker1=AS_QueryStore_OrganicAutoSuggest_1_5_na_na_ps&as-pos=1&as-type=RECENT&suggestionId=apple+phone%7CMobiles&requestId=46fc1ac4-b417-4242-b6c0-600ceb9bcca6&as-searchtext=apple&page=4\n",
      "https://www.flipkart.com/search?q=apple+phone&sid=tyy%2C4io&as=on&as-show=on&otracker=AS_QueryStore_OrganicAutoSuggest_1_5_na_na_ps&otracker1=AS_QueryStore_OrganicAutoSuggest_1_5_na_na_ps&as-pos=1&as-type=RECENT&suggestionId=apple+phone%7CMobiles&requestId=46fc1ac4-b417-4242-b6c0-600ceb9bcca6&as-searchtext=apple&page=5\n",
      "https://www.flipkart.com/search?q=apple+phone&sid=tyy%2C4io&as=on&as-show=on&otracker=AS_QueryStore_OrganicAutoSuggest_1_5_na_na_ps&otracker1=AS_QueryStore_OrganicAutoSuggest_1_5_na_na_ps&as-pos=1&as-type=RECENT&suggestionId=apple+phone%7CMobiles&requestId=46fc1ac4-b417-4242-b6c0-600ceb9bcca6&as-searchtext=apple&page=6\n",
      "https://www.flipkart.com/search?q=apple+phone&sid=tyy%2C4io&as=on&as-show=on&otracker=AS_QueryStore_OrganicAutoSuggest_1_5_na_na_ps&otracker1=AS_QueryStore_OrganicAutoSuggest_1_5_na_na_ps&as-pos=1&as-type=RECENT&suggestionId=apple+phone%7CMobiles&requestId=46fc1ac4-b417-4242-b6c0-600ceb9bcca6&as-searchtext=apple&page=7\n",
      "https://www.flipkart.com/search?q=apple+phone&sid=tyy%2C4io&as=on&as-show=on&otracker=AS_QueryStore_OrganicAutoSuggest_1_5_na_na_ps&otracker1=AS_QueryStore_OrganicAutoSuggest_1_5_na_na_ps&as-pos=1&as-type=RECENT&suggestionId=apple+phone%7CMobiles&requestId=46fc1ac4-b417-4242-b6c0-600ceb9bcca6&as-searchtext=apple&page=8\n"
     ]
    }
   ],
   "source": [
    "for i in range(2,10):\n",
    "    url = \"https://www.flipkart.com/search?q=apple+phone&sid=tyy%2C4io&as=on&as-show=on&otracker=AS_QueryStore_OrganicAutoSuggest_1_5_na_na_ps&otracker1=AS_QueryStore_OrganicAutoSuggest_1_5_na_na_ps&as-pos=1&as-type=RECENT&suggestionId=apple+phone%7CMobiles&requestId=46fc1ac4-b417-4242-b6c0-600ceb9bcca6&as-searchtext=apple&page=\"+str(i)\n",
    "    r= requests.get(url)\n",
    "    soup = BeautifulSoup(r.text, \"lxml\")\n",
    "    #print(soup)\n",
    "    np= soup.find(\"a\",class_ = \"_1LKTO3\").get(\"href\")\n",
    "    cnp = \"https://www.flipkart.com\"+ np\n",
    "    print(cnp)"
   ]
  },
  {
   "cell_type": "markdown",
   "id": "2177e120",
   "metadata": {},
   "source": [
    "## Declaring empty lists for storing the arrays"
   ]
  },
  {
   "cell_type": "code",
   "execution_count": 3,
   "id": "4cd0f493",
   "metadata": {},
   "outputs": [],
   "source": [
    "Product_name=[]\n",
    "Prices=[]\n",
    "Ratings=[]\n",
    "Description=[]\n",
    "Review=[]"
   ]
  },
  {
   "cell_type": "markdown",
   "id": "68fb89be",
   "metadata": {},
   "source": [
    "## Finally parsing through flipcart website and scrapping the data"
   ]
  },
  {
   "cell_type": "code",
   "execution_count": 4,
   "id": "e27e9bd8",
   "metadata": {},
   "outputs": [],
   "source": [
    "for i in range(2,20):\n",
    "    url = \"https://www.flipkart.com/search?q=apple+phone&sid=tyy%2C4io&as=on&as-show=on&otracker=AS_QueryStore_OrganicAutoSuggest_1_5_na_na_ps&otracker1=AS_QueryStore_OrganicAutoSuggest_1_5_na_na_ps&as-pos=1&as-type=RECENT&suggestionId=apple+phone%7CMobiles&requestId=46fc1ac4-b417-4242-b6c0-600ceb9bcca6&as-searchtext=apple&page=\"+str(i)\n",
    "    r= requests.get(url)\n",
    "    soup = BeautifulSoup(r.text, \"lxml\")\n",
    "    box= soup.find(\"div\", class_=\"_1YokD2 _3Mn1Gg\")\n",
    "    names= box.find_all(\"div\",class_ = \"_4rR01T\")\n",
    "    for i in names:\n",
    "        name=i.text\n",
    "        Product_name.append(name)\n",
    "    price = box.find_all(\"div\",class_ = \"_30jeq3 _1_WHN1\")\n",
    "    for i in price:\n",
    "        price_=i.text\n",
    "        Prices.append(price_)\n",
    "    ratings = box.find_all(\"span\",class_ = \"_2_R_DZ\")\n",
    "    for i in ratings:\n",
    "        ratings_=i.text\n",
    "        Ratings.append(ratings_)\n",
    "    description= box.find_all(\"ul\",class_= \"_1xgFaf\")\n",
    "    for i in description:\n",
    "        desc_=i.text\n",
    "        Description.append(desc_)\n",
    "    review= box.find_all(\"div\",class_= \"_3LWZlK\")\n",
    "    for i in review:\n",
    "        rev_=i.text\n",
    "        Review.append(rev_)\n"
   ]
  },
  {
   "cell_type": "markdown",
   "id": "9f7ad3a5",
   "metadata": {},
   "source": [
    "## Converting retrieved arrays to a dataframe"
   ]
  },
  {
   "cell_type": "code",
   "execution_count": 9,
   "id": "acc25b88",
   "metadata": {},
   "outputs": [
    {
     "name": "stdout",
     "output_type": "stream",
     "text": [
      "                                          Product Name     Prices  \\\n",
      "0                        APPLE iPhone 12 (Blue, 64 GB)    ₹53,999   \n",
      "1                  APPLE iPhone 13 (Starlight, 256 GB)    ₹71,999   \n",
      "2                  APPLE iPhone 14 Plus (Blue, 256 GB)    ₹89,999   \n",
      "3                      APPLE iPhone 12 (Green, 128 GB)    ₹57,999   \n",
      "4                  APPLE iPhone 13 mini (Blue, 128 GB)    ₹61,999   \n",
      "..                                                 ...        ...   \n",
      "394         APPLE iPhone 12 Pro (Pacific Blue, 128 GB)    ₹78,899   \n",
      "395                    APPLE iPhone 6s (Silver, 32 GB)    ₹29,990   \n",
      "396     APPLE iPhone 12 Pro Max (Pacific Blue, 512 GB)  ₹1,23,299   \n",
      "397             APPLE iPhone 12 Pro Max (Gold, 256 GB)  ₹1,04,799   \n",
      "398  Binatone The Brick Power Edition / The Brick X...     ₹2,400   \n",
      "\n",
      "                                           Description  \\\n",
      "0    64 GB ROM15.49 cm (6.1 inch) Super Retina XDR ...   \n",
      "1    256 GB ROM15.49 cm (6.1 inch) Super Retina XDR...   \n",
      "2    256 GB ROM17.02 cm (6.7 inch) Super Retina XDR...   \n",
      "3    128 GB ROM15.49 cm (6.1 inch) Super Retina XDR...   \n",
      "4    128 GB ROM13.72 cm (5.4 inch) Super Retina XDR...   \n",
      "..                                                 ...   \n",
      "394  128 GB ROM15.49 cm (6.1 inch) Super Retina XDR...   \n",
      "395  32 GB ROM11.94 cm (4.7 inch) Retina HD Display...   \n",
      "396  512 GB ROM17.02 cm (6.7 inch) Super Retina XDR...   \n",
      "397  256 GB ROM17.02 cm (6.7 inch) Super Retina XDR...   \n",
      "398  32 MB RAM4.57 cm (1.8 inch) Display2000 mAh Ba...   \n",
      "\n",
      "                               Ratings Reviews  \n",
      "0    1,87,138 Ratings & 12,748 Reviews     4.6  \n",
      "1    1,91,551 Ratings & 10,513 Reviews     4.7  \n",
      "2          4,282 Ratings & 322 Reviews     4.7  \n",
      "3    1,87,138 Ratings & 12,748 Reviews     4.6  \n",
      "4          3,135 Ratings & 273 Reviews     4.5  \n",
      "..                                 ...     ...  \n",
      "394         1,286 Ratings & 96 Reviews     4.6  \n",
      "395     93,028 Ratings & 9,237 Reviews     4.5  \n",
      "396        1,264 Ratings & 102 Reviews     4.5  \n",
      "397        1,264 Ratings & 102 Reviews     4.5  \n",
      "398           421 Ratings & 57 Reviews     4.1  \n",
      "\n",
      "[399 rows x 5 columns]\n"
     ]
    }
   ],
   "source": [
    "df= pd.DataFrame({\"Product Name\":Product_name,\"Prices\":Prices,\"Description\":Description,\"Ratings\":Ratings,\"Reviews\":Review})\n",
    "print(df)"
   ]
  },
  {
   "cell_type": "markdown",
   "id": "1360cd88",
   "metadata": {},
   "source": [
    "## Saving the file as csv"
   ]
  },
  {
   "cell_type": "code",
   "execution_count": 11,
   "id": "e2761d40",
   "metadata": {},
   "outputs": [],
   "source": [
    "df.to_csv(\"Downloads/FLIPCART_iPHONES_WEB_SCRAPPING.csv\")"
   ]
  },
  {
   "cell_type": "code",
   "execution_count": null,
   "id": "f7e9d454",
   "metadata": {},
   "outputs": [],
   "source": []
  },
  {
   "cell_type": "code",
   "execution_count": null,
   "id": "cea157e7",
   "metadata": {},
   "outputs": [],
   "source": []
  },
  {
   "cell_type": "code",
   "execution_count": null,
   "id": "fc064888",
   "metadata": {},
   "outputs": [],
   "source": []
  },
  {
   "cell_type": "code",
   "execution_count": null,
   "id": "a34b9444",
   "metadata": {},
   "outputs": [],
   "source": []
  },
  {
   "cell_type": "code",
   "execution_count": null,
   "id": "cae8e903",
   "metadata": {},
   "outputs": [],
   "source": []
  },
  {
   "cell_type": "code",
   "execution_count": null,
   "id": "f1244cc9",
   "metadata": {},
   "outputs": [],
   "source": []
  },
  {
   "cell_type": "code",
   "execution_count": null,
   "id": "10399705",
   "metadata": {},
   "outputs": [],
   "source": []
  },
  {
   "cell_type": "code",
   "execution_count": null,
   "id": "9786aeb3",
   "metadata": {},
   "outputs": [],
   "source": []
  },
  {
   "cell_type": "code",
   "execution_count": null,
   "id": "ab7d1093",
   "metadata": {},
   "outputs": [],
   "source": []
  }
 ],
 "metadata": {
  "kernelspec": {
   "display_name": "Python 3 (ipykernel)",
   "language": "python",
   "name": "python3"
  },
  "language_info": {
   "codemirror_mode": {
    "name": "ipython",
    "version": 3
   },
   "file_extension": ".py",
   "mimetype": "text/x-python",
   "name": "python",
   "nbconvert_exporter": "python",
   "pygments_lexer": "ipython3",
   "version": "3.9.13"
  }
 },
 "nbformat": 4,
 "nbformat_minor": 5
}
